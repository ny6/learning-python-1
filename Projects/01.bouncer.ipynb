{
 "cells": [
  {
   "cell_type": "markdown",
   "metadata": {},
   "source": [
    "# bouncer"
   ]
  },
  {
   "cell_type": "code",
   "execution_count": 11,
   "metadata": {},
   "outputs": [
    {
     "name": "stdout",
     "output_type": "stream",
     "text": [
      "Enter you age: 8\n",
      "too young, sorry!\n"
     ]
    }
   ],
   "source": [
    "# age = input('Enter you age: ')\n",
    "age = 8\n",
    "\n",
    "if age:\n",
    "    age = int(age)\n",
    "    if age >= 21:\n",
    "        print('drink, normal entry!')\n",
    "    elif age >= 18:\n",
    "        print('You can enter, but need a wristband!')\n",
    "    else:\n",
    "        print('too young, sorry!')\n",
    "else:\n",
    "    print('Please enter your age!')"
   ]
  },
  {
   "cell_type": "markdown",
   "metadata": {},
   "source": [
    "User input commands are commented out due to github don't support it!"
   ]
  }
 ],
 "metadata": {
  "kernelspec": {
   "display_name": "Python 3",
   "language": "python",
   "name": "python3"
  },
  "language_info": {
   "codemirror_mode": {
    "name": "ipython",
    "version": 3
   },
   "file_extension": ".py",
   "mimetype": "text/x-python",
   "name": "python",
   "nbconvert_exporter": "python",
   "pygments_lexer": "ipython3",
   "version": "3.7.0"
  }
 },
 "nbformat": 4,
 "nbformat_minor": 2
}
