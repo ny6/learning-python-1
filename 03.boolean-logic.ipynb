{
 "cells": [
  {
   "cell_type": "markdown",
   "metadata": {},
   "source": [
    "# boolean & conditional logic"
   ]
  },
  {
   "cell_type": "markdown",
   "metadata": {},
   "source": [
    "## Truthiness"
   ]
  },
  {
   "cell_type": "code",
   "execution_count": 24,
   "metadata": {},
   "outputs": [
    {
     "name": "stdout",
     "output_type": "stream",
     "text": [
      "True is true!\n",
      "Any number other than 0 is true even negative one!\n",
      "Any string is true!\n",
      "Non empty array is true!\n",
      "Non empty object is true!\n"
     ]
    }
   ],
   "source": [
    "# Falsy values\n",
    "if False: print('False is not true!')\n",
    "if 0: print('0 is not true!')\n",
    "if '': print('Empty string is not true!')\n",
    "if None: print('None is not true!')\n",
    "if []: print('Empty array is not true!')\n",
    "if {}: print('Empty object is not true!')\n",
    "\n",
    "# Truthy Values\n",
    "if True: print('True is true!')\n",
    "if -1: print('Any number other than 0 is true even negative one!')\n",
    "if 'abc': print('Any string is true!')\n",
    "if [1]: print('Non empty array is true!')\n",
    "if {'a': 'b'}: print('Non empty object is true!')"
   ]
  },
  {
   "cell_type": "markdown",
   "metadata": {},
   "source": [
    "Getting user input"
   ]
  },
  {
   "cell_type": "code",
   "execution_count": 26,
   "metadata": {},
   "outputs": [
    {
     "name": "stdout",
     "output_type": "stream",
     "text": [
      "Enter your name: Yeshu\n",
      "Hello, Yeshu!\n"
     ]
    }
   ],
   "source": [
    "# name = input('Enter your name: ')\n",
    "name = 'Yeshu'\n",
    "print(f\"Hello, {name}!\")"
   ]
  },
  {
   "cell_type": "markdown",
   "metadata": {},
   "source": [
    "Conditional Checks"
   ]
  },
  {
   "cell_type": "code",
   "execution_count": 10,
   "metadata": {},
   "outputs": [
    {
     "name": "stdout",
     "output_type": "stream",
     "text": [
      "Enter your name: yeshu\n",
      "Developer\n"
     ]
    }
   ],
   "source": [
    "# name = input('Enter your name: ')\n",
    "name = 'yeshu'\n",
    "if name == 'yeshu':\n",
    "    print('Developer')\n",
    "elif name == 'aarav':\n",
    "    print('Student')\n",
    "else:\n",
    "    print('Who are you?')"
   ]
  },
  {
   "cell_type": "code",
   "execution_count": null,
   "metadata": {},
   "outputs": [],
   "source": []
  }
 ],
 "metadata": {
  "kernelspec": {
   "display_name": "Python 3",
   "language": "python",
   "name": "python3"
  },
  "language_info": {
   "codemirror_mode": {
    "name": "ipython",
    "version": 3
   },
   "file_extension": ".py",
   "mimetype": "text/x-python",
   "name": "python",
   "nbconvert_exporter": "python",
   "pygments_lexer": "ipython3",
   "version": "3.7.0"
  }
 },
 "nbformat": 4,
 "nbformat_minor": 2
}
