{
 "cells": [
  {
   "cell_type": "markdown",
   "metadata": {},
   "source": [
    "# boolean & conditional logic"
   ]
  },
  {
   "cell_type": "markdown",
   "metadata": {},
   "source": [
    "## Truthiness"
   ]
  },
  {
   "cell_type": "code",
   "execution_count": 27,
   "metadata": {},
   "outputs": [
    {
     "name": "stdout",
     "output_type": "stream",
     "text": [
      "True is true!\n",
      "Any number other than 0 is true even negative one!\n",
      "Any string is true!\n",
      "Non empty array is true!\n",
      "Non empty object is true!\n"
     ]
    }
   ],
   "source": [
    "# Falsy values\n",
    "if False: print('False is not true!')\n",
    "if 0: print('0 is not true!')\n",
    "if '': print('Empty string is not true!')\n",
    "if None: print('None is not true!')\n",
    "if []: print('Empty array is not true!')\n",
    "if {}: print('Empty object is not true!')\n",
    "\n",
    "# Truthy Values\n",
    "if True: print('True is true!')\n",
    "if -1: print('Any number other than 0 is true even negative one!')\n",
    "if 'abc': print('Any string is true!')\n",
    "if [1]: print('Non empty array is true!')\n",
    "if {'a': 'b'}: print('Non empty object is true!')"
   ]
  },
  {
   "cell_type": "markdown",
   "metadata": {},
   "source": [
    "## Comparison Operators\n",
    "\n",
    "List of comparison operators\n",
    "In this example, **a = 1** and **b = 1**\n",
    "\n",
    "| Operator | What it does | Example |\n",
    "| -------- | ------------ | ------- |\n",
    "| == | Truthy if **a** has the same value as **b** | a == b # True |\n",
    "| != | Truthy if **a** does **NOT** have the same value as **b** | a != b # False |\n",
    "| > | Truthy if **a** is greater than **b** | a > b # False |\n",
    "| < | Truthy if **a** is less than **b** | a < b # False |\n",
    "| >= | Truthy if **a** is greater than or equal to **b** | a >= b # True |\n",
    "| <= | Truthy if **a** is less than or equal to **b** | a <= b # True |"
   ]
  },
  {
   "cell_type": "markdown",
   "metadata": {},
   "source": [
    "## Logical Operators\n",
    "List of logical operators\n",
    "\n",
    "| Operator | What it does | Example |\n",
    "| -------- | ------------ | ------- |\n",
    "| **and** | Truthy if both **a** AND **b** are true | if a and b: print(c) |\n",
    "| **or** | Truthy if either **a** OR **b** is true | if am_tired or is_bedtime: print('go to sleep') |\n",
    "| **not** | Truthy if the opposite of **a** is true | if not is_weekend: print('go to work') |"
   ]
  },
  {
   "cell_type": "markdown",
   "metadata": {},
   "source": [
    "Getting user input"
   ]
  },
  {
   "cell_type": "code",
   "execution_count": 26,
   "metadata": {},
   "outputs": [
    {
     "name": "stdout",
     "output_type": "stream",
     "text": [
      "Enter your name: Yeshu\n",
      "Hello, Yeshu!\n"
     ]
    }
   ],
   "source": [
    "# name = input('Enter your name: ')\n",
    "name = 'Yeshu'\n",
    "print(f\"Hello, {name}!\")"
   ]
  },
  {
   "cell_type": "markdown",
   "metadata": {},
   "source": [
    "Conditional Checks"
   ]
  },
  {
   "cell_type": "code",
   "execution_count": 10,
   "metadata": {},
   "outputs": [
    {
     "name": "stdout",
     "output_type": "stream",
     "text": [
      "Enter your name: yeshu\n",
      "Developer\n"
     ]
    }
   ],
   "source": [
    "# name = input('Enter your name: ')\n",
    "name = 'yeshu'\n",
    "if name == 'yeshu':\n",
    "    print('Developer')\n",
    "elif name == 'aarav':\n",
    "    print('Student')\n",
    "else:\n",
    "    print('Who are you?')"
   ]
  },
  {
   "cell_type": "code",
   "execution_count": null,
   "metadata": {},
   "outputs": [],
   "source": []
  },
  {
   "cell_type": "markdown",
   "metadata": {},
   "source": [
    "User input commands are commented out due to github don't support it!"
   ]
  }
 ],
 "metadata": {
  "kernelspec": {
   "display_name": "Python 3",
   "language": "python",
   "name": "python3"
  },
  "language_info": {
   "codemirror_mode": {
    "name": "ipython",
    "version": 3
   },
   "file_extension": ".py",
   "mimetype": "text/x-python",
   "name": "python",
   "nbconvert_exporter": "python",
   "pygments_lexer": "ipython3",
   "version": "3.7.0"
  }
 },
 "nbformat": 4,
 "nbformat_minor": 2
}
